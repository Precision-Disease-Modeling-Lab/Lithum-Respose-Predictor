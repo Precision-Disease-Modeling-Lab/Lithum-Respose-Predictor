{
 "cells": [
  {
   "cell_type": "code",
   "execution_count": 1,
   "id": "060c8ac4",
   "metadata": {},
   "outputs": [],
   "source": [
    "import pandas as pd\n",
    "import json\n",
    "import re\n"
   ]
  },
  {
   "cell_type": "code",
   "execution_count": 2,
   "id": "be9c98a5",
   "metadata": {},
   "outputs": [],
   "source": [
    "gwas_df=pd.read_csv('gwas_catalog_v1.0.2-associations_e105_r2022-02-21.tsv', sep='\\t', low_memory=False)"
   ]
  },
  {
   "cell_type": "code",
   "execution_count": 3,
   "id": "65690caf",
   "metadata": {
    "scrolled": true
   },
   "outputs": [
    {
     "data": {
      "text/plain": [
       "(1610, 38)"
      ]
     },
     "execution_count": 3,
     "metadata": {},
     "output_type": "execute_result"
    }
   ],
   "source": [
    "bipolar_df = gwas_df[gwas_df['MAPPED_TRAIT'].str.contains(\"Bipolar|lithium\", case = False)==True]\n",
    "bipolar_df.shape"
   ]
  },
  {
   "cell_type": "code",
   "execution_count": 4,
   "id": "dcd86f23",
   "metadata": {},
   "outputs": [],
   "source": [
    "flist = ['original_dataset_NR_vs_LR_results.csv', \n",
    "         'joined_dataset_NR_vs_LR_results.csv', \n",
    "         'original_dataset_CTRL_vs_BD_results.csv'] \n",
    "\n",
    "padj_th = 0.1\n",
    "log2FoldChange_th =0\n",
    "\n",
    "deseq_dfs=[]\n",
    "\n",
    "for fname in flist:\n",
    "\n",
    "    df=pd.read_csv(fname, index_col=0)\n",
    "    df.dropna(axis=0, inplace=True)\n",
    "    deseq_dfs.append(df)\n",
    "    "
   ]
  },
  {
   "cell_type": "code",
   "execution_count": 5,
   "id": "432c7301",
   "metadata": {},
   "outputs": [],
   "source": [
    "common_genes_list =[]\n",
    "\n",
    "for key, study_df in bipolar_df.groupby('STUDY ACCESSION'): \n",
    "    reported_genes = set(study_df['REPORTED GENE(S)'].to_list())\n",
    "\n",
    "    for f_idx, df in enumerate(deseq_dfs): \n",
    "        gene_name_list = set(df[(abs(df['log2FoldChange'])> log2FoldChange_th) & (df['padj'] < padj_th)].index)\n",
    "        common_genes = reported_genes.intersection(gene_name_list)\n",
    "        \n",
    "        if common_genes: \n",
    "            common_genes_list.append({'STUDY ACCESSION': key, \n",
    "                                      'link' : study_df['LINK'].iloc[0],\n",
    "                                      'title': study_df['STUDY'].iloc[0],\n",
    "                                      'common genes': common_genes, \n",
    "                                      'dataset' : f_idx, \n",
    "                                      'total reported genes': len(reported_genes)\n",
    "                                    })\n"
   ]
  },
  {
   "cell_type": "code",
   "execution_count": 10,
   "id": "5e02182f-9b18-4ea9-bba2-fc5072b30e32",
   "metadata": {},
   "outputs": [
    {
     "data": {
      "text/html": [
       "<div>\n",
       "<style scoped>\n",
       "    .dataframe tbody tr th:only-of-type {\n",
       "        vertical-align: middle;\n",
       "    }\n",
       "\n",
       "    .dataframe tbody tr th {\n",
       "        vertical-align: top;\n",
       "    }\n",
       "\n",
       "    .dataframe thead th {\n",
       "        text-align: right;\n",
       "    }\n",
       "</style>\n",
       "<table border=\"1\" class=\"dataframe\">\n",
       "  <thead>\n",
       "    <tr style=\"text-align: right;\">\n",
       "      <th></th>\n",
       "      <th>STUDY ACCESSION</th>\n",
       "      <th>link</th>\n",
       "      <th>title</th>\n",
       "      <th>common genes</th>\n",
       "      <th>dataset</th>\n",
       "      <th>total reported genes</th>\n",
       "    </tr>\n",
       "  </thead>\n",
       "  <tbody>\n",
       "    <tr>\n",
       "      <th>0</th>\n",
       "      <td>GCST005081</td>\n",
       "      <td>www.ncbi.nlm.nih.gov/pubmed/29121268</td>\n",
       "      <td>Association of Polygenic Score for Schizophren...</td>\n",
       "      <td>{ADCY1}</td>\n",
       "      <td>0</td>\n",
       "      <td>8</td>\n",
       "    </tr>\n",
       "    <tr>\n",
       "      <th>1</th>\n",
       "      <td>GCST008103</td>\n",
       "      <td>www.ncbi.nlm.nih.gov/pubmed/31043756</td>\n",
       "      <td>Genome-wide association study identifies 30 lo...</td>\n",
       "      <td>{NPTX1, RIMS1, BCL11B}</td>\n",
       "      <td>0</td>\n",
       "      <td>146</td>\n",
       "    </tr>\n",
       "    <tr>\n",
       "      <th>2</th>\n",
       "      <td>GCST009600</td>\n",
       "      <td>www.ncbi.nlm.nih.gov/pubmed/31835028</td>\n",
       "      <td>Genomic Relationships, Novel Loci, and Pleiotr...</td>\n",
       "      <td>{RIMS1, ZSWIM6, BCL11B}</td>\n",
       "      <td>0</td>\n",
       "      <td>111</td>\n",
       "    </tr>\n",
       "    <tr>\n",
       "      <th>3</th>\n",
       "      <td>GCST011102</td>\n",
       "      <td>www.ncbi.nlm.nih.gov/pubmed/33263727</td>\n",
       "      <td>Novel Risk Loci Associated With Genetic Risk f...</td>\n",
       "      <td>{RIMS1}</td>\n",
       "      <td>0</td>\n",
       "      <td>23</td>\n",
       "    </tr>\n",
       "    <tr>\n",
       "      <th>4</th>\n",
       "      <td>GCST012465</td>\n",
       "      <td>www.ncbi.nlm.nih.gov/pubmed/34002096</td>\n",
       "      <td>Genome-wide association study of more than 40,...</td>\n",
       "      <td>{BCL11B}</td>\n",
       "      <td>0</td>\n",
       "      <td>63</td>\n",
       "    </tr>\n",
       "  </tbody>\n",
       "</table>\n",
       "</div>"
      ],
      "text/plain": [
       "  STUDY ACCESSION                                  link  \\\n",
       "0      GCST005081  www.ncbi.nlm.nih.gov/pubmed/29121268   \n",
       "1      GCST008103  www.ncbi.nlm.nih.gov/pubmed/31043756   \n",
       "2      GCST009600  www.ncbi.nlm.nih.gov/pubmed/31835028   \n",
       "3      GCST011102  www.ncbi.nlm.nih.gov/pubmed/33263727   \n",
       "4      GCST012465  www.ncbi.nlm.nih.gov/pubmed/34002096   \n",
       "\n",
       "                                               title             common genes  \\\n",
       "0  Association of Polygenic Score for Schizophren...                  {ADCY1}   \n",
       "1  Genome-wide association study identifies 30 lo...   {NPTX1, RIMS1, BCL11B}   \n",
       "2  Genomic Relationships, Novel Loci, and Pleiotr...  {RIMS1, ZSWIM6, BCL11B}   \n",
       "3  Novel Risk Loci Associated With Genetic Risk f...                  {RIMS1}   \n",
       "4  Genome-wide association study of more than 40,...                 {BCL11B}   \n",
       "\n",
       "   dataset  total reported genes  \n",
       "0        0                     8  \n",
       "1        0                   146  \n",
       "2        0                   111  \n",
       "3        0                    23  \n",
       "4        0                    63  "
      ]
     },
     "execution_count": 10,
     "metadata": {},
     "output_type": "execute_result"
    }
   ],
   "source": [
    "pd.DataFrame(common_genes_list)"
   ]
  },
  {
   "cell_type": "code",
   "execution_count": 11,
   "id": "3da6ec12-095d-44d2-a8fc-b511de216187",
   "metadata": {},
   "outputs": [
    {
     "data": {
      "text/plain": [
       "(1610, 38)"
      ]
     },
     "execution_count": 11,
     "metadata": {},
     "output_type": "execute_result"
    }
   ],
   "source": [
    "bipolar_df.shape"
   ]
  },
  {
   "cell_type": "code",
   "execution_count": 8,
   "id": "97caf000",
   "metadata": {},
   "outputs": [
    {
     "data": {
      "text/plain": [
       "(55, 38)"
      ]
     },
     "execution_count": 8,
     "metadata": {},
     "output_type": "execute_result"
    }
   ],
   "source": [
    "\n",
    "bipolar_df.drop_duplicates(subset='LINK').shape"
   ]
  },
  {
   "cell_type": "code",
   "execution_count": 26,
   "id": "4d57013a",
   "metadata": {},
   "outputs": [],
   "source": [
    "bipolar_df.drop_duplicates(subset='LINK').loc[:,['STUDY ACCESSION', 'LINK', 'STUDY', 'REPORTED GENE(S)', 'MAPPED_GENE']].to_csv('Bipolar_lithium_GWAS results.csv', index=None)"
   ]
  }
 ],
 "metadata": {
  "kernelspec": {
   "display_name": "Python 3",
   "language": "python",
   "name": "python3"
  },
  "language_info": {
   "codemirror_mode": {
    "name": "ipython",
    "version": 3
   },
   "file_extension": ".py",
   "mimetype": "text/x-python",
   "name": "python",
   "nbconvert_exporter": "python",
   "pygments_lexer": "ipython3",
   "version": "3.10.0"
  }
 },
 "nbformat": 4,
 "nbformat_minor": 5
}
