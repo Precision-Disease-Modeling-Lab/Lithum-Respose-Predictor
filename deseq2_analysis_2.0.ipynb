{
 "cells": [
  {
   "cell_type": "code",
   "execution_count": 1,
   "id": "19d3c950-fc81-4ce1-b6c2-2fe3c7d39b81",
   "metadata": {},
   "outputs": [
    {
     "name": "stderr",
     "output_type": "stream",
     "text": [
      "Loading required package: S4Vectors\n",
      "\n",
      "Loading required package: stats4\n",
      "\n",
      "Loading required package: BiocGenerics\n",
      "\n",
      "\n",
      "Attaching package: 'BiocGenerics'\n",
      "\n",
      "\n",
      "The following objects are masked from 'package:stats':\n",
      "\n",
      "    IQR, mad, sd, var, xtabs\n",
      "\n",
      "\n",
      "The following objects are masked from 'package:base':\n",
      "\n",
      "    anyDuplicated, append, as.data.frame, basename, cbind, colnames,\n",
      "    dirname, do.call, duplicated, eval, evalq, Filter, Find, get, grep,\n",
      "    grepl, intersect, is.unsorted, lapply, Map, mapply, match, mget,\n",
      "    order, paste, pmax, pmax.int, pmin, pmin.int, Position, rank,\n",
      "    rbind, Reduce, rownames, sapply, setdiff, sort, table, tapply,\n",
      "    union, unique, unsplit, which.max, which.min\n",
      "\n",
      "\n",
      "\n",
      "Attaching package: 'S4Vectors'\n",
      "\n",
      "\n",
      "The following objects are masked from 'package:base':\n",
      "\n",
      "    expand.grid, I, unname\n",
      "\n",
      "\n",
      "Loading required package: IRanges\n",
      "\n",
      "\n",
      "Attaching package: 'IRanges'\n",
      "\n",
      "\n",
      "The following object is masked from 'package:grDevices':\n",
      "\n",
      "    windows\n",
      "\n",
      "\n",
      "Loading required package: GenomicRanges\n",
      "\n",
      "Loading required package: GenomeInfoDb\n",
      "\n",
      "Loading required package: SummarizedExperiment\n",
      "\n",
      "Loading required package: MatrixGenerics\n",
      "\n",
      "Loading required package: matrixStats\n",
      "\n",
      "\n",
      "Attaching package: 'MatrixGenerics'\n",
      "\n",
      "\n",
      "The following objects are masked from 'package:matrixStats':\n",
      "\n",
      "    colAlls, colAnyNAs, colAnys, colAvgsPerRowSet, colCollapse,\n",
      "    colCounts, colCummaxs, colCummins, colCumprods, colCumsums,\n",
      "    colDiffs, colIQRDiffs, colIQRs, colLogSumExps, colMadDiffs,\n",
      "    colMads, colMaxs, colMeans2, colMedians, colMins, colOrderStats,\n",
      "    colProds, colQuantiles, colRanges, colRanks, colSdDiffs, colSds,\n",
      "    colSums2, colTabulates, colVarDiffs, colVars, colWeightedMads,\n",
      "    colWeightedMeans, colWeightedMedians, colWeightedSds,\n",
      "    colWeightedVars, rowAlls, rowAnyNAs, rowAnys, rowAvgsPerColSet,\n",
      "    rowCollapse, rowCounts, rowCummaxs, rowCummins, rowCumprods,\n",
      "    rowCumsums, rowDiffs, rowIQRDiffs, rowIQRs, rowLogSumExps,\n",
      "    rowMadDiffs, rowMads, rowMaxs, rowMeans2, rowMedians, rowMins,\n",
      "    rowOrderStats, rowProds, rowQuantiles, rowRanges, rowRanks,\n",
      "    rowSdDiffs, rowSds, rowSums2, rowTabulates, rowVarDiffs, rowVars,\n",
      "    rowWeightedMads, rowWeightedMeans, rowWeightedMedians,\n",
      "    rowWeightedSds, rowWeightedVars\n",
      "\n",
      "\n",
      "Loading required package: Biobase\n",
      "\n",
      "Welcome to Bioconductor\n",
      "\n",
      "    Vignettes contain introductory material; view with\n",
      "    'browseVignettes()'. To cite Bioconductor, see\n",
      "    'citation(\"Biobase\")', and for packages 'citation(\"pkgname\")'.\n",
      "\n",
      "\n",
      "\n",
      "Attaching package: 'Biobase'\n",
      "\n",
      "\n",
      "The following object is masked from 'package:MatrixGenerics':\n",
      "\n",
      "    rowMedians\n",
      "\n",
      "\n",
      "The following objects are masked from 'package:matrixStats':\n",
      "\n",
      "    anyMissing, rowMedians\n",
      "\n",
      "\n"
     ]
    }
   ],
   "source": [
    "library(\"readr\")\n",
    "library(\"tximport\")\n",
    "library(\"tximportData\")\n",
    "library(\"DESeq2\")\n",
    "# Summarized - Experiment "
   ]
  },
  {
   "cell_type": "markdown",
   "id": "69c56a80-82df-4b46-a86c-962cb29d7caf",
   "metadata": {
    "tags": []
   },
   "source": [
    "## condition - Joined Dataset"
   ]
  },
  {
   "cell_type": "markdown",
   "id": "c5ea1426-4f5f-44f4-bbd6-1b93b6ce2d2c",
   "metadata": {},
   "source": [
    " In order to compare between LR ans NR, need to remove all \"Contol\" samples, which are not used during this comparison. \n",
    " so each \"healthy\"/CTRL samples are removed"
   ]
  },
  {
   "cell_type": "code",
   "execution_count": 2,
   "id": "ad17729e-f6f1-43e3-8657-5755a63723da",
   "metadata": {},
   "outputs": [],
   "source": [
    "\n",
    "dir <- \"C:/python/projects/bioinformatics/rnaseq/data/dataset_joined\"\n",
    "\n",
    "# readt count matrix (non-normalized)\n",
    "count_mat_fname <- file.path(dir, 'countMatrix_include_gene_name.csv')\n",
    "cts <- as.matrix(read.csv(count_mat_fname,sep=\",\",row.names=\"gene_name\"))\n",
    "\n",
    "# read samples meta-data\n",
    "coldata_fname <- file.path(dir, 'samples_joined.csv')\n",
    "## read sample table and set condition as factor\n",
    "cc <- c(condition = \"factor\", batch = \"factor\") # a named vector of column classes\n",
    "\n",
    "coldata <- read.csv(coldata_fname,sep=\",\", colClasses = cc ,row.name = 1)\n",
    "\n",
    "# drop healthy samples\n",
    "coldata <- coldata[coldata$diagnosis == 'BD',]\n"
   ]
  },
  {
   "cell_type": "code",
   "execution_count": 3,
   "id": "e5e2fa22-78f4-4e2d-8793-c7deac0ba64e",
   "metadata": {},
   "outputs": [],
   "source": [
    "# sort by condition\n",
    "coldata<- coldata[order(coldata$condition),]\n",
    "\n",
    "## arraange countmatrix  according columns order in the coldata\n",
    "cts <- cts[,rownames(coldata)]"
   ]
  },
  {
   "cell_type": "code",
   "execution_count": 4,
   "id": "a96af4fa-5992-4d91-9388-5f8e6fd11003",
   "metadata": {},
   "outputs": [
    {
     "name": "stderr",
     "output_type": "stream",
     "text": [
      "factor levels were dropped which had no samples\n",
      "\n"
     ]
    }
   ],
   "source": [
    "# Load data into deseq2 dataframe\n",
    "dds <- DESeqDataSetFromMatrix(countData = cts,\n",
    "                              colData = coldata,\n",
    "                              design = ~  batch + condition)"
   ]
  },
  {
   "cell_type": "code",
   "execution_count": 5,
   "id": "14457c9e-7057-49b0-bc7c-7171153485ab",
   "metadata": {},
   "outputs": [
    {
     "name": "stderr",
     "output_type": "stream",
     "text": [
      "estimating size factors\n",
      "\n",
      "estimating dispersions\n",
      "\n",
      "gene-wise dispersion estimates\n",
      "\n",
      "mean-dispersion relationship\n",
      "\n",
      "final dispersion estimates\n",
      "\n",
      "fitting model and testing\n",
      "\n",
      "-- replacing outliers and refitting for 167 genes\n",
      "-- DESeq argument 'minReplicatesForReplace' = 7 \n",
      "-- original counts are preserved in counts(dds)\n",
      "\n",
      "estimating dispersions\n",
      "\n",
      "fitting model and testing\n",
      "\n"
     ]
    }
   ],
   "source": [
    "dds <- DESeq(dds)"
   ]
  },
  {
   "cell_type": "code",
   "execution_count": 6,
   "id": "75a23503-c9fb-407e-a365-08a3418ea638",
   "metadata": {},
   "outputs": [
    {
     "data": {
      "text/html": [
       "<style>\n",
       ".list-inline {list-style: none; margin:0; padding: 0}\n",
       ".list-inline>li {display: inline-block}\n",
       ".list-inline>li:not(:last-child)::after {content: \"\\00b7\"; padding: 0 .5ex}\n",
       "</style>\n",
       "<ol class=list-inline><li>'Intercept'</li><li>'batch_2_vs_1'</li><li>'batch_3_vs_1'</li><li>'batch_4_vs_1'</li><li>'condition_NR_vs_LR'</li></ol>\n"
      ],
      "text/latex": [
       "\\begin{enumerate*}\n",
       "\\item 'Intercept'\n",
       "\\item 'batch\\_2\\_vs\\_1'\n",
       "\\item 'batch\\_3\\_vs\\_1'\n",
       "\\item 'batch\\_4\\_vs\\_1'\n",
       "\\item 'condition\\_NR\\_vs\\_LR'\n",
       "\\end{enumerate*}\n"
      ],
      "text/markdown": [
       "1. 'Intercept'\n",
       "2. 'batch_2_vs_1'\n",
       "3. 'batch_3_vs_1'\n",
       "4. 'batch_4_vs_1'\n",
       "5. 'condition_NR_vs_LR'\n",
       "\n",
       "\n"
      ],
      "text/plain": [
       "[1] \"Intercept\"          \"batch_2_vs_1\"       \"batch_3_vs_1\"      \n",
       "[4] \"batch_4_vs_1\"       \"condition_NR_vs_LR\""
      ]
     },
     "metadata": {},
     "output_type": "display_data"
    }
   ],
   "source": [
    "resultsNames(dds)"
   ]
  },
  {
   "cell_type": "code",
   "execution_count": 7,
   "id": "f335b607-37b0-4e5d-9a8c-1464a1d104eb",
   "metadata": {},
   "outputs": [
    {
     "data": {
      "text/plain": [
       "class: DESeqDataSet \n",
       "dim: 39397 56 \n",
       "metadata(1): version\n",
       "assays(6): counts mu ... replaceCounts replaceCooks\n",
       "rownames(39397): 5S_rRNA 5_8S_rRNA ... hsa-mir-423 snoZ196\n",
       "rowData names(35): baseMean baseVar ... maxCooks replace\n",
       "colnames(56): X_R9288_1 X_Rou7776B_1 ... X_R29425B_1 X_523_1\n",
       "colData names(8): batch diagnosis ... sizeFactor replaceable"
      ]
     },
     "metadata": {},
     "output_type": "display_data"
    }
   ],
   "source": [
    "dds"
   ]
  },
  {
   "cell_type": "code",
   "execution_count": 8,
   "id": "3810e1fa-2d89-46af-8e88-e83aa4c7842b",
   "metadata": {},
   "outputs": [],
   "source": [
    "res <- results(dds, contrast=c(\"condition\",\"NR\",\"LR\"))"
   ]
  },
  {
   "cell_type": "code",
   "execution_count": 9,
   "id": "fa85188b-b1cb-4df8-8856-f52b77772ff7",
   "metadata": {},
   "outputs": [
    {
     "name": "stdout",
     "output_type": "stream",
     "text": [
      "\n",
      "out of 32253 with nonzero total read count\n",
      "adjusted p-value < 0.1\n",
      "LFC > 0 (up)       : 49, 0.15%\n",
      "LFC < 0 (down)     : 17, 0.053%\n",
      "outliers [1]       : 94, 0.29%\n",
      "low counts [2]     : 13575, 42%\n",
      "(mean count < 1)\n",
      "[1] see 'cooksCutoff' argument of ?results\n",
      "[2] see 'independentFiltering' argument of ?results\n",
      "\n"
     ]
    }
   ],
   "source": [
    "summary(res)"
   ]
  },
  {
   "cell_type": "code",
   "execution_count": 10,
   "id": "5c2df9b0-95e8-4fbd-9b46-dad01fb5fd5d",
   "metadata": {
    "tags": []
   },
   "outputs": [],
   "source": [
    "saveRDS(dds,'dds_batch_condition_4batches_joined.rds')"
   ]
  },
  {
   "cell_type": "code",
   "execution_count": null,
   "id": "ec7e531f-9cd4-4dd9-90d2-e2622c6f0a4e",
   "metadata": {},
   "outputs": [],
   "source": []
  },
  {
   "cell_type": "code",
   "execution_count": null,
   "id": "df9cdfc9-23eb-4568-9ed0-43d58f4b4ca7",
   "metadata": {},
   "outputs": [],
   "source": []
  },
  {
   "cell_type": "markdown",
   "id": "2bd8d43a-0493-43d7-b04e-ffb2447e0f5f",
   "metadata": {
    "tags": []
   },
   "source": [
    "## condition - Original Dataset"
   ]
  },
  {
   "cell_type": "code",
   "execution_count": 11,
   "id": "48a12a9b-c177-4561-ad1c-37fa8c466489",
   "metadata": {},
   "outputs": [],
   "source": [
    "\n",
    "dir <- \"C:/python/projects/bioinformatics/rnaseq/data/dataset_joined\"\n",
    "\n",
    "# readt count matrix (non-normalized)\n",
    "count_mat_fname <- file.path(dir, 'countMatrix_include_gene_name.csv')\n",
    "cts <- as.matrix(read.csv(count_mat_fname,sep=\",\",row.names=\"gene_name\"))\n",
    "\n",
    "# read samples meta-data\n",
    "coldata_fname <- file.path(dir, 'samples_original.csv')\n",
    "## read sample table and set condition as factor\n",
    "cc <- c(condition = \"factor\", batch = \"factor\") # a named vector of column classes\n",
    "\n",
    "coldata <- read.csv(coldata_fname,sep=\",\", colClasses = cc ,row.name = 1)\n",
    "\n",
    "# drop healthy samples\n",
    "coldata <- coldata[coldata$diagnosis == 'BD',]"
   ]
  },
  {
   "cell_type": "code",
   "execution_count": 12,
   "id": "a1f79bf0-f86f-4d07-a2a7-8fd80da72029",
   "metadata": {},
   "outputs": [],
   "source": [
    "# sort by condition\n",
    "coldata<- coldata[order(coldata$condition),]\n",
    "\n",
    "## arraange countmatrix  according columns order in the coldata\n",
    "cts <- cts[,rownames(coldata)]"
   ]
  },
  {
   "cell_type": "code",
   "execution_count": 13,
   "id": "69d2cc09-f0ed-41e4-88d4-43abc231a900",
   "metadata": {},
   "outputs": [
    {
     "name": "stderr",
     "output_type": "stream",
     "text": [
      "factor levels were dropped which had no samples\n",
      "\n"
     ]
    }
   ],
   "source": [
    "# Load data into deseq2 dataframe\n",
    "dds <- DESeqDataSetFromMatrix(countData = cts,\n",
    "                              colData = coldata,\n",
    "                              design = ~  batch + condition)"
   ]
  },
  {
   "cell_type": "code",
   "execution_count": 14,
   "id": "f4f7d9ed-547f-4689-a5d0-237a127b535e",
   "metadata": {},
   "outputs": [
    {
     "name": "stderr",
     "output_type": "stream",
     "text": [
      "estimating size factors\n",
      "\n",
      "estimating dispersions\n",
      "\n",
      "gene-wise dispersion estimates\n",
      "\n",
      "mean-dispersion relationship\n",
      "\n",
      "final dispersion estimates\n",
      "\n",
      "fitting model and testing\n",
      "\n",
      "-- replacing outliers and refitting for 206 genes\n",
      "-- DESeq argument 'minReplicatesForReplace' = 7 \n",
      "-- original counts are preserved in counts(dds)\n",
      "\n",
      "estimating dispersions\n",
      "\n",
      "fitting model and testing\n",
      "\n"
     ]
    }
   ],
   "source": [
    "dds <- DESeq(dds)"
   ]
  },
  {
   "cell_type": "code",
   "execution_count": 15,
   "id": "8ab27505-64fe-4531-b99c-0f0cf27207ea",
   "metadata": {},
   "outputs": [
    {
     "data": {
      "text/html": [
       "<style>\n",
       ".list-inline {list-style: none; margin:0; padding: 0}\n",
       ".list-inline>li {display: inline-block}\n",
       ".list-inline>li:not(:last-child)::after {content: \"\\00b7\"; padding: 0 .5ex}\n",
       "</style>\n",
       "<ol class=list-inline><li>'Intercept'</li><li>'batch_2_vs_1'</li><li>'batch_3_vs_1'</li><li>'condition_NR_vs_LR'</li></ol>\n"
      ],
      "text/latex": [
       "\\begin{enumerate*}\n",
       "\\item 'Intercept'\n",
       "\\item 'batch\\_2\\_vs\\_1'\n",
       "\\item 'batch\\_3\\_vs\\_1'\n",
       "\\item 'condition\\_NR\\_vs\\_LR'\n",
       "\\end{enumerate*}\n"
      ],
      "text/markdown": [
       "1. 'Intercept'\n",
       "2. 'batch_2_vs_1'\n",
       "3. 'batch_3_vs_1'\n",
       "4. 'condition_NR_vs_LR'\n",
       "\n",
       "\n"
      ],
      "text/plain": [
       "[1] \"Intercept\"          \"batch_2_vs_1\"       \"batch_3_vs_1\"      \n",
       "[4] \"condition_NR_vs_LR\""
      ]
     },
     "metadata": {},
     "output_type": "display_data"
    }
   ],
   "source": [
    "resultsNames(dds)"
   ]
  },
  {
   "cell_type": "code",
   "execution_count": 16,
   "id": "0b3e10a8-aae5-4ace-b2b6-bc5b5d7a360a",
   "metadata": {},
   "outputs": [
    {
     "data": {
      "text/plain": [
       "class: DESeqDataSet \n",
       "dim: 39397 32 \n",
       "metadata(1): version\n",
       "assays(6): counts mu ... replaceCounts replaceCooks\n",
       "rownames(39397): 5S_rRNA 5_8S_rRNA ... hsa-mir-423 snoZ196\n",
       "rowData names(31): baseMean baseVar ... maxCooks replace\n",
       "colnames(32): X_R9288_1 X_Rou7776B_1 ... X_R25549B_1 X_R29425B_1\n",
       "colData names(8): batch diagnosis ... sizeFactor replaceable"
      ]
     },
     "metadata": {},
     "output_type": "display_data"
    }
   ],
   "source": [
    "dds"
   ]
  },
  {
   "cell_type": "code",
   "execution_count": 17,
   "id": "5efbb0ff-58d7-4865-b4af-62a929e68644",
   "metadata": {},
   "outputs": [],
   "source": [
    "res <- results(dds, contrast=c(\"condition\",\"NR\",\"LR\"))"
   ]
  },
  {
   "cell_type": "code",
   "execution_count": 18,
   "id": "97329ca8-8164-49c3-8356-3b968429e460",
   "metadata": {},
   "outputs": [
    {
     "name": "stdout",
     "output_type": "stream",
     "text": [
      "\n",
      "out of 30144 with nonzero total read count\n",
      "adjusted p-value < 0.1\n",
      "LFC > 0 (up)       : 140, 0.46%\n",
      "LFC < 0 (down)     : 83, 0.28%\n",
      "outliers [1]       : 167, 0.55%\n",
      "low counts [2]     : 10906, 36%\n",
      "(mean count < 1)\n",
      "[1] see 'cooksCutoff' argument of ?results\n",
      "[2] see 'independentFiltering' argument of ?results\n",
      "\n"
     ]
    }
   ],
   "source": [
    "summary(res)"
   ]
  },
  {
   "cell_type": "code",
   "execution_count": 19,
   "id": "ef2d7d51-0110-426c-9b76-801c6af5f99c",
   "metadata": {
    "tags": []
   },
   "outputs": [],
   "source": [
    "saveRDS(dds,'dds_batch_condition_3batches_original.rds')"
   ]
  },
  {
   "cell_type": "code",
   "execution_count": null,
   "id": "aaff1c39-ff32-4d9a-b343-2427e343c7ff",
   "metadata": {},
   "outputs": [],
   "source": []
  },
  {
   "cell_type": "code",
   "execution_count": null,
   "id": "9d816459-5683-4fba-8499-262fea6cd0e9",
   "metadata": {},
   "outputs": [],
   "source": []
  },
  {
   "cell_type": "code",
   "execution_count": null,
   "id": "c40abbab-86ba-456b-8d43-d21e312b7838",
   "metadata": {},
   "outputs": [],
   "source": []
  },
  {
   "cell_type": "code",
   "execution_count": null,
   "id": "53a17202-0433-4a19-aa4f-015cfc2d4c9b",
   "metadata": {},
   "outputs": [],
   "source": []
  },
  {
   "cell_type": "code",
   "execution_count": null,
   "id": "32b82881-180c-4f44-9461-d59ef861de34",
   "metadata": {},
   "outputs": [],
   "source": []
  },
  {
   "cell_type": "code",
   "execution_count": null,
   "id": "afba219a-7e3c-4938-8412-ab70ab698baf",
   "metadata": {},
   "outputs": [],
   "source": []
  },
  {
   "cell_type": "code",
   "execution_count": null,
   "id": "247b1707-ae56-4250-9888-84d92b32943c",
   "metadata": {},
   "outputs": [],
   "source": []
  },
  {
   "cell_type": "markdown",
   "id": "11b206b3-9340-4dc4-bcb0-c799de6c965e",
   "metadata": {},
   "source": [
    "## diagnosis - Original dataset Only"
   ]
  },
  {
   "cell_type": "code",
   "execution_count": 20,
   "id": "66f2cc31-5bba-4771-80f8-25c423043d06",
   "metadata": {},
   "outputs": [],
   "source": [
    "\n",
    "dir <- \"C:/python/projects/bioinformatics/rnaseq/data/dataset_joined\"\n",
    "\n",
    "# readt count matrix (non-normalized)\n",
    "count_mat_fname <- file.path(dir, 'countMatrix_include_gene_name.csv')\n",
    "cts <- as.matrix(read.csv(count_mat_fname,sep=\",\",row.names=\"gene_name\"))\n",
    "\n",
    "# read samples meta-data\n",
    "coldata_fname <- file.path(dir, 'samples_original.csv')\n",
    "## read sample table and set condition as factor\n",
    "cc <- c(condition = \"factor\", batch = \"factor\", diagnosis=\"factor\") # a named vector of column classes\n",
    "\n",
    "coldata <- read.csv(coldata_fname,sep=\",\", colClasses = cc ,row.name = 1)\n",
    "\n",
    "# sort by condition\n",
    "coldata<- coldata[order(coldata$condition),]\n",
    "## arraange countmatrix  according columns order in the coldata\n",
    "cts <- cts[,rownames(coldata)]"
   ]
  },
  {
   "cell_type": "code",
   "execution_count": 21,
   "id": "c7810b61-d9aa-4dc9-b987-10e31d7fe310",
   "metadata": {},
   "outputs": [],
   "source": [
    "#coldata"
   ]
  },
  {
   "cell_type": "code",
   "execution_count": 22,
   "id": "d9c3cc2a-c3b6-46bf-a88b-904261d79df5",
   "metadata": {},
   "outputs": [],
   "source": [
    "# Load data into deseq2 dataframe\n",
    "dds <- DESeqDataSetFromMatrix(countData = cts,\n",
    "                              colData = coldata,\n",
    "                              design = ~ batch + diagnosis)"
   ]
  },
  {
   "cell_type": "code",
   "execution_count": null,
   "id": "2a6f83d3-2624-4fe5-ae41-bdd63b676318",
   "metadata": {},
   "outputs": [],
   "source": []
  },
  {
   "cell_type": "code",
   "execution_count": 23,
   "id": "fbc32eba-1983-42c9-a2ff-6c063cd6bd0d",
   "metadata": {},
   "outputs": [
    {
     "name": "stderr",
     "output_type": "stream",
     "text": [
      "estimating size factors\n",
      "\n",
      "estimating dispersions\n",
      "\n",
      "gene-wise dispersion estimates\n",
      "\n",
      "mean-dispersion relationship\n",
      "\n",
      "final dispersion estimates\n",
      "\n",
      "fitting model and testing\n",
      "\n",
      "-- replacing outliers and refitting for 127 genes\n",
      "-- DESeq argument 'minReplicatesForReplace' = 7 \n",
      "-- original counts are preserved in counts(dds)\n",
      "\n",
      "estimating dispersions\n",
      "\n",
      "fitting model and testing\n",
      "\n"
     ]
    }
   ],
   "source": [
    "dds <- DESeq(dds)"
   ]
  },
  {
   "cell_type": "code",
   "execution_count": 24,
   "id": "48ae9d01-6f7d-43a7-96e2-3a26748cf5a3",
   "metadata": {},
   "outputs": [],
   "source": [
    "saveRDS(dds,'dds_batch_diagnosis_original.rds')"
   ]
  },
  {
   "cell_type": "code",
   "execution_count": null,
   "id": "95d99f97-dce8-4d5b-9a16-90f1c02661c1",
   "metadata": {},
   "outputs": [],
   "source": []
  }
 ],
 "metadata": {
  "kernelspec": {
   "display_name": "Python 3",
   "language": "python",
   "name": "python3"
  },
  "language_info": {
   "codemirror_mode": {
    "name": "ipython",
    "version": 3
   },
   "file_extension": ".py",
   "mimetype": "text/x-python",
   "name": "python",
   "nbconvert_exporter": "python",
   "pygments_lexer": "ipython3",
   "version": "3.10.0"
  }
 },
 "nbformat": 4,
 "nbformat_minor": 5
}
