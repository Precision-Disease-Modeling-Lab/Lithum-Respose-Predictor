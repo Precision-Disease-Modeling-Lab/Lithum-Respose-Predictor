{
 "cells": [
  {
   "cell_type": "code",
   "execution_count": 2,
   "id": "ce34c647-b16f-471e-be91-f5a4a8576568",
   "metadata": {},
   "outputs": [],
   "source": [
    "import os, sys, glob\n",
    "import pandas as pd"
   ]
  },
  {
   "cell_type": "markdown",
   "id": "a47aa722-f6db-4e57-b105-d62b73edbda1",
   "metadata": {},
   "source": [
    "## Load clinical sample data"
   ]
  },
  {
   "cell_type": "code",
   "execution_count": 10,
   "id": "70174632-ece3-4c21-b921-b858c79a1f80",
   "metadata": {},
   "outputs": [
    {
     "data": {
      "text/plain": [
       "(70, 7)"
      ]
     },
     "execution_count": 10,
     "metadata": {},
     "output_type": "execute_result"
    }
   ],
   "source": [
    "# load the complete samples' summary table\n",
    "\n",
    "data_dir = '../data/dataset_joined'\n",
    "sample_df = pd.read_csv(data_dir + '/_samples.csv')\n",
    "sample_df.shape"
   ]
  },
  {
   "cell_type": "code",
   "execution_count": 11,
   "id": "64a56f0a-689c-4535-be83-f1a675452675",
   "metadata": {},
   "outputs": [],
   "source": [
    "def find_sample_file(label): \n",
    "    ret = glob.glob(data_dir+ '/**/*'+label+'*ReadsPerGene*' ,recursive=True) \n",
    "    return ret[0] if ret else False"
   ]
  },
  {
   "cell_type": "code",
   "execution_count": 12,
   "id": "ea247b3b-3176-4c9b-aa1c-0848f6155d68",
   "metadata": {},
   "outputs": [
    {
     "data": {
      "text/html": [
       "<div>\n",
       "<style scoped>\n",
       "    .dataframe tbody tr th:only-of-type {\n",
       "        vertical-align: middle;\n",
       "    }\n",
       "\n",
       "    .dataframe tbody tr th {\n",
       "        vertical-align: top;\n",
       "    }\n",
       "\n",
       "    .dataframe thead th {\n",
       "        text-align: right;\n",
       "    }\n",
       "</style>\n",
       "<table border=\"1\" class=\"dataframe\">\n",
       "  <thead>\n",
       "    <tr style=\"text-align: right;\">\n",
       "      <th></th>\n",
       "      <th>batch</th>\n",
       "      <th>diagnosis</th>\n",
       "      <th>condition</th>\n",
       "      <th>patient</th>\n",
       "      <th>sex</th>\n",
       "      <th>age</th>\n",
       "      <th>filename</th>\n",
       "    </tr>\n",
       "    <tr>\n",
       "      <th>sample_label</th>\n",
       "      <th></th>\n",
       "      <th></th>\n",
       "      <th></th>\n",
       "      <th></th>\n",
       "      <th></th>\n",
       "      <th></th>\n",
       "      <th></th>\n",
       "    </tr>\n",
       "  </thead>\n",
       "  <tbody>\n",
       "    <tr>\n",
       "      <th>X_R40334B_2</th>\n",
       "      <td>1</td>\n",
       "      <td>ctrl</td>\n",
       "      <td>ctrl</td>\n",
       "      <td>8</td>\n",
       "      <td>M</td>\n",
       "      <td>27.51</td>\n",
       "      <td>../data/dataset_joined\\R40334B_2_S22_R1_001.fa...</td>\n",
       "    </tr>\n",
       "    <tr>\n",
       "      <th>X_R30875B_2</th>\n",
       "      <td>2</td>\n",
       "      <td>ctrl</td>\n",
       "      <td>ctrl</td>\n",
       "      <td>16</td>\n",
       "      <td>M</td>\n",
       "      <td>52.21</td>\n",
       "      <td>../data/dataset_joined\\R30875B_2_S8_R1_001.fas...</td>\n",
       "    </tr>\n",
       "    <tr>\n",
       "      <th>X_R30875B_1</th>\n",
       "      <td>2</td>\n",
       "      <td>ctrl</td>\n",
       "      <td>ctrl</td>\n",
       "      <td>16</td>\n",
       "      <td>M</td>\n",
       "      <td>52.21</td>\n",
       "      <td>../data/dataset_joined\\R30875B_1_S7_R1_001.fas...</td>\n",
       "    </tr>\n",
       "    <tr>\n",
       "      <th>X_R21723B_1</th>\n",
       "      <td>2</td>\n",
       "      <td>ctrl</td>\n",
       "      <td>ctrl</td>\n",
       "      <td>14</td>\n",
       "      <td>M</td>\n",
       "      <td>39.52</td>\n",
       "      <td>../data/dataset_joined\\R21723B_1_S1_R1_001.fas...</td>\n",
       "    </tr>\n",
       "    <tr>\n",
       "      <th>X_40064_1</th>\n",
       "      <td>3</td>\n",
       "      <td>ctrl</td>\n",
       "      <td>ctrl</td>\n",
       "      <td>28</td>\n",
       "      <td>M</td>\n",
       "      <td>51.00</td>\n",
       "      <td>../data/dataset_joined\\40064_1_P5_S4_R1_001.fa...</td>\n",
       "    </tr>\n",
       "  </tbody>\n",
       "</table>\n",
       "</div>"
      ],
      "text/plain": [
       "              batch diagnosis condition  patient sex    age  \\\n",
       "sample_label                                                  \n",
       "X_R40334B_2       1      ctrl      ctrl        8   M  27.51   \n",
       "X_R30875B_2       2      ctrl      ctrl       16   M  52.21   \n",
       "X_R30875B_1       2      ctrl      ctrl       16   M  52.21   \n",
       "X_R21723B_1       2      ctrl      ctrl       14   M  39.52   \n",
       "X_40064_1         3      ctrl      ctrl       28   M  51.00   \n",
       "\n",
       "                                                       filename  \n",
       "sample_label                                                     \n",
       "X_R40334B_2   ../data/dataset_joined\\R40334B_2_S22_R1_001.fa...  \n",
       "X_R30875B_2   ../data/dataset_joined\\R30875B_2_S8_R1_001.fas...  \n",
       "X_R30875B_1   ../data/dataset_joined\\R30875B_1_S7_R1_001.fas...  \n",
       "X_R21723B_1   ../data/dataset_joined\\R21723B_1_S1_R1_001.fas...  \n",
       "X_40064_1     ../data/dataset_joined\\40064_1_P5_S4_R1_001.fa...  "
      ]
     },
     "execution_count": 12,
     "metadata": {},
     "output_type": "execute_result"
    }
   ],
   "source": [
    "# match file name for each sample label\n",
    "sample_df['filename'] = sample_df['sample_label'].apply(find_sample_file)\n",
    "# add '_1' for single sample\n",
    "sample_df['sample_label']= sample_df['sample_label'].apply(lambda x: x + '_1' if '_' not in x else x)\n",
    "# trim sample label\n",
    "sample_df['sample_label']=  sample_df['sample_label'].apply(lambda x : '_'.join(x.split('_')[0:2]))\n",
    "sample_df['sample_label'] = 'X_' + sample_df['sample_label']\n",
    "sample_df.sort_values(by='condition', inplace=True)\n",
    "sample_df.set_index('sample_label', inplace=True)\n",
    "sample_df.tail()"
   ]
  },
  {
   "cell_type": "code",
   "execution_count": 13,
   "id": "b10cbf2e-49c4-463e-a99e-3c8ffbd5f918",
   "metadata": {},
   "outputs": [],
   "source": [
    "sample_df.drop(columns=['filename']).to_csv(data_dir + '/samples_joined.csv')"
   ]
  },
  {
   "cell_type": "code",
   "execution_count": 14,
   "id": "c3e25bc3-4708-42cc-8b28-7301f031a975",
   "metadata": {},
   "outputs": [],
   "source": [
    "#drop all samples from batch 4\n",
    "sample_df[sample_df.batch != 4].drop(columns=['filename']).to_csv(data_dir + '/samples_original.csv')"
   ]
  },
  {
   "cell_type": "markdown",
   "id": "c659fe30-af4f-4571-bf93-111c7f0c220f",
   "metadata": {},
   "source": [
    "## Read STAR results"
   ]
  },
  {
   "cell_type": "code",
   "execution_count": 17,
   "id": "5d2fd23f-c647-4ca3-a86c-cc889bab5bb8",
   "metadata": {},
   "outputs": [],
   "source": [
    "def starReadCount2df(fname, sample_label): \n",
    "    \n",
    "    df = pd.read_csv(fname, delimiter='\\t',  header=None, skiprows=4)\n",
    "    df.rename(columns={0: 'gene_id', 1: sample_label}, inplace=True)\n",
    "    df.drop(axis=0, columns=[2, 3],  inplace=True)\n",
    "    df.set_index('gene_id',  inplace=True)\n",
    "    return df"
   ]
  },
  {
   "cell_type": "code",
   "execution_count": 19,
   "id": "61b68d21-3aa2-461f-b967-181c478da2bf",
   "metadata": {},
   "outputs": [],
   "source": [
    "numOfSamples=0\n",
    "for label , r in sample_df.iterrows(): \n",
    "    #print(r)\n",
    "    df = starReadCount2df(r['filename'], label)\n",
    "    if numOfSamples == 0: \n",
    "        count_matrix = df.copy()\n",
    "    else: \n",
    "        count_matrix = count_matrix.merge(df, left_index=True, right_index=True)\n",
    "    numOfSamples += 1"
   ]
  },
  {
   "cell_type": "code",
   "execution_count": null,
   "id": "1381faed-02fb-4257-a382-46c09d64be5c",
   "metadata": {},
   "outputs": [],
   "source": [
    "count_matrix.to_csv(data_dir + '/countMatrix_raw.csv')"
   ]
  },
  {
   "cell_type": "code",
   "execution_count": null,
   "id": "65c3f21e-e6c4-4ab5-872c-67623cdcf3c5",
   "metadata": {},
   "outputs": [],
   "source": [
    "# remove suffix in transcript_id \n",
    "count_matrix.reset_index(inplace=True)\n",
    "#count_matrix.transcript_id = count_matrix.gene_id.apply(lambda x : x.split('.')[0])\n",
    "count_matrix.head()"
   ]
  },
  {
   "cell_type": "code",
   "execution_count": null,
   "id": "82b665bf-2457-4d81-a27e-705e3055abfc",
   "metadata": {},
   "outputs": [],
   "source": [
    "count_matrix.set_index(keys='gene_id', inplace=True)"
   ]
  },
  {
   "cell_type": "markdown",
   "id": "e0da936f-bad7-4d84-b889-0b48772207f4",
   "metadata": {},
   "source": [
    "## match transcript_id to genes"
   ]
  },
  {
   "cell_type": "code",
   "execution_count": 20,
   "id": "4f82b0a4-7bd8-42e7-b374-11dc8bc36da6",
   "metadata": {},
   "outputs": [],
   "source": [
    "import sqlite3 as db\n",
    "ensembldb = db.connect('c:/python/projects/bioinformatics/rnaseq/data/GRCh38\\pyensembl\\GRCh38\\ensembl104\\Homo_sapiens.GRCh38.104.gtf.db')"
   ]
  },
  {
   "cell_type": "code",
   "execution_count": null,
   "id": "bdba18ec-bddd-4128-8a64-e9ecd3521419",
   "metadata": {},
   "outputs": [],
   "source": [
    "# build string list to fit into SQL query\n",
    "trans_id_list= \"('\"+\"', '\".join(count_matrix.index) + \"')\"\n",
    "trans_id_list[0:100]"
   ]
  },
  {
   "cell_type": "code",
   "execution_count": null,
   "id": "339d16a7-0645-4388-afd7-b33ccd9c0bf0",
   "metadata": {},
   "outputs": [],
   "source": [
    "sql_str = \"SELECT  gene_id,  gene_name  from gene WHERE gene_id IN {} \".format(trans_id_list)\n",
    "trans2gene = pd.read_sql_query(sql_str, ensembldb)\n",
    "\n",
    "trans2gene.head()"
   ]
  },
  {
   "cell_type": "code",
   "execution_count": null,
   "id": "16fe1930-54bb-43b9-a0c7-307024d12ce5",
   "metadata": {},
   "outputs": [],
   "source": [
    "trans2gene.set_index('gene_id', inplace=True)"
   ]
  },
  {
   "cell_type": "code",
   "execution_count": null,
   "id": "dacf2d6e-9c87-40d0-887d-bce56eccd729",
   "metadata": {},
   "outputs": [],
   "source": [
    "df = count_matrix.merge(trans2gene, left_index=True, right_index=True)"
   ]
  },
  {
   "cell_type": "code",
   "execution_count": null,
   "id": "ef7c282d-2a41-4125-b275-31b5162e1556",
   "metadata": {},
   "outputs": [],
   "source": [
    "df.to_csv(data_dir + '/countMatrix_with_gene_id.csv')"
   ]
  },
  {
   "cell_type": "code",
   "execution_count": null,
   "id": "f8a3144c-7064-4085-9a78-e112175a8bcc",
   "metadata": {},
   "outputs": [],
   "source": []
  },
  {
   "cell_type": "code",
   "execution_count": null,
   "id": "ca1494d3-550d-4e10-ae47-e83369884199",
   "metadata": {},
   "outputs": [],
   "source": [
    "df2 = df\n",
    "df2 = df2[df2['gene_name']!='']\n",
    "df2.set_index('gene_name', inplace=True)\n",
    "df2 = df2.groupby('gene_name').sum()\n",
    "df2.to_csv(data_dir + '/countMatrix_include_gene_name.csv')"
   ]
  }
 ],
 "metadata": {
  "kernelspec": {
   "display_name": "Python 3",
   "language": "python",
   "name": "python3"
  },
  "language_info": {
   "codemirror_mode": {
    "name": "ipython",
    "version": 3
   },
   "file_extension": ".py",
   "mimetype": "text/x-python",
   "name": "python",
   "nbconvert_exporter": "python",
   "pygments_lexer": "ipython3",
   "version": "3.10.0"
  }
 },
 "nbformat": 4,
 "nbformat_minor": 5
}
